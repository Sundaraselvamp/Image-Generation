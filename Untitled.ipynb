{
 "cells": [
  {
   "cell_type": "code",
   "execution_count": null,
   "id": "2c8826c0",
   "metadata": {},
   "outputs": [],
   "source": [
    "import openai\n",
    "from PIL import Image\n",
    "import io\n",
    "import requests\n",
    "import os"
   ]
  },
  {
   "cell_type": "code",
   "execution_count": null,
   "id": "c7f0ef19",
   "metadata": {},
   "outputs": [],
   "source": [
    "openai.api_key=os.environ[\"OPENAI_API_KEY\"]"
   ]
  },
  {
   "cell_type": "code",
   "execution_count": null,
   "id": "96fea0b5",
   "metadata": {},
   "outputs": [],
   "source": [
    "os.makedirs('generated_images', exist_ok=True)"
   ]
  },
  {
   "cell_type": "code",
   "execution_count": null,
   "id": "4b81b160",
   "metadata": {},
   "outputs": [],
   "source": [
    "# Get the content from the user\n",
    "content = input(\"Enter the content for which you want to generate images: \")"
   ]
  },
  {
   "cell_type": "code",
   "execution_count": null,
   "id": "13b99d87",
   "metadata": {},
   "outputs": [],
   "source": [
    "# Generate a set of images using OpenAI's Dall-E 2 API\n",
    "num_images = 5\n",
    "response = openai.Image.create(\n",
    "    prompt=content,\n",
    "    n=num_images,\n",
    "    size=\"512x512\",\n",
    ")"
   ]
  },
  {
   "cell_type": "code",
   "execution_count": null,
   "id": "053960b7",
   "metadata": {},
   "outputs": [],
   "source": [
    "# Extract the image URLs from the response\n",
    "image_urls = [image['url'] for image in response['data']]\n"
   ]
  },
  {
   "cell_type": "code",
   "execution_count": null,
   "id": "203d49fb",
   "metadata": {},
   "outputs": [],
   "source": [
    "# Download and save the images\n",
    "for i, image_url in enumerate(image_urls):\n",
    "    image_content = requests.get(image_url).content\n",
    "    image = Image.open(io.BytesIO(image_content))\n",
    "    image.save(f\"generated_images/image_{i}.png\")\n",
    "\n",
    "print(f\"Generated {num_images} images and saved them to the 'generated_images' folder.\")\n"
   ]
  }
 ],
 "metadata": {
  "kernelspec": {
   "display_name": "Python 3 (ipykernel)",
   "language": "python",
   "name": "python3"
  },
  "language_info": {
   "codemirror_mode": {
    "name": "ipython",
    "version": 3
   },
   "file_extension": ".py",
   "mimetype": "text/x-python",
   "name": "python",
   "nbconvert_exporter": "python",
   "pygments_lexer": "ipython3",
   "version": "3.11.3"
  }
 },
 "nbformat": 4,
 "nbformat_minor": 5
}
